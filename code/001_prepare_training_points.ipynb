{
 "cells": [
  {
   "cell_type": "code",
   "execution_count": 2,
   "id": "d44b778c-5a98-4e43-89ce-b35c3091fc37",
   "metadata": {},
   "outputs": [],
   "source": [
    "#load libraries\n",
    "import os\n",
    "import glob\n",
    "from eumap import parallel\n",
    "from eumap.parallel import TilingProcessing\n",
    "from eumap.raster import read_rasters, save_rasters\n",
    "from eumap.misc import ttprint\n",
    "from eumap.misc import find_files\n",
    "import re\n",
    "import pandas as pd\n",
    "import numpy as np\n",
    "import rasterio\n",
    "from pathlib import Path\n",
    "from osgeo import gdal\n",
    "import geopandas as gpd\n",
    "import matplotlib.pyplot as plt\n",
    "import random\n",
    "from shapely.geometry import Polygon, Point\n",
    "from eumap.mapper import SpaceOverlay\n",
    "from random import sample\n",
    "import joblib"
   ]
  },
  {
   "cell_type": "code",
   "execution_count": 37,
   "id": "134c589e-3a4f-4e61-ac56-87b0a3150ec6",
   "metadata": {},
   "outputs": [],
   "source": [
    "# load landmask and save as joblib instance\n",
    "base_raster = [\"../nightlights.average_viirs.v21_m_250m_s_20210101_20211231_go_epsg4326_v20230318.tif\"]\n",
    "base_ds = rasterio.open(base_raster[0])"
   ]
  },
  {
   "cell_type": "code",
   "execution_count": 2,
   "id": "d0131323-c13f-4580-a0b2-d0c655f90a8c",
   "metadata": {},
   "outputs": [],
   "source": [
    "#create raster where all 4 human pressure variables are zero at 2000 and 2021\n",
    "#load in 1st dataset\n",
    "nl_2000_path = [\"../nightlights.average_viirs.v21_m_250m_s_20000101_20001231_go_epsg4326_v20230318.tif\"]\n",
    "ds_nl_2000 = rasterio.open(nl_2000_path[0])\n",
    "nl_2000_data = rasterio.open(nl_2000_path[0]).read(1)\n",
    "\n",
    "hp_zero = np.zeros_like(nl_2000_data)\n",
    "hp_zero[(nl_2000_data > 0)] = 100"
   ]
  },
  {
   "cell_type": "code",
   "execution_count": 3,
   "id": "be11c85f-1c70-429e-8769-fac935126b9d",
   "metadata": {},
   "outputs": [],
   "source": [
    "#garbage 1st dataset, and load in 2nd dataset\n",
    "import gc\n",
    "del nl_2000_data\n",
    "gc.collect()\n",
    "\n",
    "nl_2021_path = [\"../nightlights.average_viirs.v21_m_250m_s_20210101_20211231_go_epsg4326_v20230318.tif\"]\n",
    "nl_2021_data = rasterio.open(nl_2021_path[0]).read(1)\n",
    "hp_zero[(nl_2021_data > 0)] = 100"
   ]
  },
  {
   "cell_type": "code",
   "execution_count": 4,
   "id": "2b5a9e41-4c22-40fc-af60-7d8b48484c51",
   "metadata": {},
   "outputs": [],
   "source": [
    "#garbage 1st dataset, and load in 2nd dataset\n",
    "import gc\n",
    "del nl_2021_data\n",
    "gc.collect()\n",
    "\n",
    "hfp_2021_path = [\"../lcv_human.footprint_hpressure.50_m_250m_epsg4326_2021_epsg4326_v1.0.tif\"]\n",
    "hfp_2021_data = rasterio.open(hfp_2021_path[0]).read(1)\n",
    "hp_zero[(hfp_2021_data > 0)] = 100"
   ]
  },
  {
   "cell_type": "code",
   "execution_count": 5,
   "id": "6e746669-4ce8-4ac2-a078-5a1a80f5dda6",
   "metadata": {},
   "outputs": [],
   "source": [
    "#garbage 1st dataset, and load in 2nd dataset\n",
    "import gc\n",
    "del hfp_2021_data\n",
    "gc.collect()\n",
    "\n",
    "hfp_2000_path = [\"../lcv_human.footprint_hpressure.50_m_250m_epsg4326_2000_epsg4326_v1.0.tif\"]\n",
    "hfp_2000_data = rasterio.open(hfp_2000_path[0]).read(1)\n",
    "hp_zero[(hfp_2000_data > 0)] = 100"
   ]
  },
  {
   "cell_type": "code",
   "execution_count": 6,
   "id": "b539cf20-381d-4ca3-b281-880e45bdabd4",
   "metadata": {},
   "outputs": [],
   "source": [
    "#garbage 1st dataset, and load in 2nd dataset\n",
    "import gc\n",
    "del hfp_2000_data\n",
    "gc.collect()\n",
    "\n",
    "crop_2000_path = [\"../lcv_globalcropland_bowen.et.al_p_250m_epsg4326_s0..0cm_2000_v0.1.tif\"]\n",
    "crop_2000_data = rasterio.open(crop_2000_path[0]).read(1)\n",
    "hp_zero[(crop_2000_data > 0)] = 100"
   ]
  },
  {
   "cell_type": "code",
   "execution_count": 7,
   "id": "39598c2b-79d4-4a41-9948-7fc1090d1fc9",
   "metadata": {},
   "outputs": [],
   "source": [
    "#garbage 1st dataset, and load in 2nd dataset\n",
    "import gc\n",
    "del crop_2000_data\n",
    "gc.collect()\n",
    "\n",
    "crop_2021_path = [\"../lcv_globalcropland_bowen.et.al_p_250m_epsg4326_s0..0cm_2021_v0.1.tif\"]\n",
    "crop_2021_data = rasterio.open(crop_2021_path[0]).read(1)\n",
    "hp_zero[(crop_2021_data > 0)] = 100"
   ]
  },
  {
   "cell_type": "code",
   "execution_count": 8,
   "id": "5edb3dd2-abcf-40d7-bd27-96d5c8dc4986",
   "metadata": {},
   "outputs": [],
   "source": [
    "#garbage 1st dataset, and load in 2nd dataset\n",
    "import gc\n",
    "del crop_2021_data\n",
    "gc.collect()\n",
    "\n",
    "pop_2021_path = [\"../pop.count_ghs.jrc_m_250m_s_20210101_20211231_go_epsg.4326_v20230620.tif\"]\n",
    "pop_2021_data = rasterio.open(pop_2021_path[0]).read(1)\n",
    "hp_zero[(pop_2021_data > 0)] = 100"
   ]
  },
  {
   "cell_type": "code",
   "execution_count": 9,
   "id": "fa6d76f6-2779-4f83-b4cb-4416c832551e",
   "metadata": {},
   "outputs": [],
   "source": [
    "#garbage 1st dataset, and load in 2nd dataset\n",
    "import gc\n",
    "del pop_2021_data\n",
    "gc.collect()\n",
    "\n",
    "pop_2000_path = [\"../pop.count_ghs.jrc_m_250m_s_20000101_20001231_go_epsg.4326_v20230620.tif\"]\n",
    "pop_2000_data = rasterio.open(pop_2000_path[0]).read(1)\n",
    "hp_zero[(pop_2000_data > 0)] = 100"
   ]
  },
  {
   "cell_type": "code",
   "execution_count": 19,
   "id": "22a4c9c4-350a-42cf-827a-d004091bd6a9",
   "metadata": {},
   "outputs": [],
   "source": [
    "#write to file\n",
    "# with rasterio.open(\n",
    "#     'hp.ind_v20230628.tif', \n",
    "#     'w',\n",
    "#     driver='GTiff',\n",
    "#     height=hp_zero.shape[0],\n",
    "#     width=hp_zero.shape[1],\n",
    "#     count=1,\n",
    "#     dtype=np.int16,\n",
    "#     crs=base_ds.crs,\n",
    "#     transform=base_ds.transform,\n",
    "#     compress='lzw',\n",
    "#     tiled=True\n",
    "# ) as dest_file:\n",
    "#     dest_file.write(hp_zero, 1)\n",
    "# dest_file.close()"
   ]
  },
  {
   "cell_type": "code",
   "execution_count": null,
   "id": "072b8d12-dacb-4510-9747-9a5e9cf5117f",
   "metadata": {},
   "outputs": [],
   "source": [
    "input_vrt = 'hp.ind_v20230628.tif'\n",
    "output_vrt = input_vrt.replace(\".tif\", \"_cog.tif\")\n",
    "cmd = f'gdal_translate --config GDAL_CACHEMAX 2048 -co BLOCKSIZE=1024 -co BIGTIFF=YES -co COMPRESS=DEFLATE -co NUM_THREADS=8 -co LEVEL=9 -of COG {input_vrt} {output_vrt}'\n",
    "# os.system(cmd)"
   ]
  },
  {
   "cell_type": "code",
   "execution_count": null,
   "id": "800bf1a3-35f8-485e-83b2-9a4037bdb064",
   "metadata": {},
   "outputs": [],
   "source": [
    "#make lc change map\n",
    "\n",
    "forest_2000_path = [\"../forest.ind_esa.cci.lc_pc_250m_s_20000101_20001231_go_epsg4326_v20230627.tif\"]\n",
    "forest_2000_data = rasterio.open(forest_2000_path[0]).read(1)\n",
    "\n",
    "forest_2001_path = [\"../forest.ind_esa.cci.lc_pc_250m_s_20010101_20011231_go_epsg4326_v20230627.tif\"]\n",
    "forest_2001_data = rasterio.open(forest_2001_path[0]).read(1)\n",
    "\n",
    "wet_2000_path = [\"../wetland.ind_esa.cci.lc_pc_250m_s_20000101_20001231_go_epsg4326_v20230627.tif\"]\n",
    "wet_2000_data = rasterio.open(wet_2000_path[0]).read(1)\n",
    "\n",
    "wet_2001_path = [\"../wetland.ind_esa.cci.lc_pc_250m_s_20010101_20011231_go_epsg4326_v20230627.tif\"]\n",
    "wet_2001_data = rasterio.open(wet_2001_path[0]).read(1)\n",
    "\n"
   ]
  },
  {
   "cell_type": "code",
   "execution_count": null,
   "id": "e6ce8ea7-a941-4ac9-81b5-e6d34691197a",
   "metadata": {},
   "outputs": [],
   "source": [
    "crop_2019_path = [\"../cropland.ind_esa.cci.lc_pc_250m_s_20190101_20191231_go_epsg4326_v20230627.tif\"]\n",
    "crop_2019_data = rasterio.open(crop_2019_path[0]).read(1)\n",
    "\n",
    "crop_2020_path = [\"../cropland.ind_esa.cci.lc_pc_250m_s_20200101_20201231_go_epsg4326_v20230627.tif\"]\n",
    "crop_2020_data = rasterio.open(crop_2020_path[0]).read(1)\n",
    "\n",
    "grass_2019_path = [\"../grassland.ind_esa.cci.lc_pc_250m_s_20190101_20191231_go_epsg4326_v20230627.tif\"]\n",
    "grass_2019_data = rasterio.open(grass_2019_path[0]).read(1)\n",
    "\n",
    "grass_2020_path = [\"../grassland.ind_esa.cci.lc_pc_250m_s_20200101_20201231_go_epsg4326_v20230627.tif\"]\n",
    "grass_2020_data = rasterio.open(grass_2020_path[0]).read(1)\n",
    "\n"
   ]
  },
  {
   "cell_type": "code",
   "execution_count": 39,
   "id": "98bea384-9539-49af-a968-14f5845a03a8",
   "metadata": {},
   "outputs": [],
   "source": [
    "crop_2000_path = [\"../cropland.ind_esa.cci.lc_pc_250m_s_20000101_20001231_go_epsg4326_v20230627.tif\"]\n",
    "crop_2000_data = rasterio.open(crop_2000_path[0]).read(1)\n",
    "\n",
    "crop_2001_path = [\"../cropland.ind_esa.cci.lc_pc_250m_s_20010101_20011231_go_epsg4326_v20230627.tif\"]\n",
    "crop_2001_data = rasterio.open(crop_2001_path[0]).read(1)\n",
    "\n",
    "grass_2000_path = [\"../grassland.ind_esa.cci.lc_pc_250m_s_20000101_20001231_go_epsg4326_v20230627.tif\"]\n",
    "grass_2000_data = rasterio.open(grass_2000_path[0]).read(1)\n",
    "\n",
    "grass_2001_path = [\"../grassland.ind_esa.cci.lc_pc_250m_s_20010101_20011231_go_epsg4326_v20230627.tif\"]\n",
    "grass_2001_data = rasterio.open(grass_2001_path[0]).read(1)\n",
    "\n",
    "forest_2019_path = [\"../forest.ind_esa.cci.lc_pc_250m_s_20190101_20191231_go_epsg4326_v20230627.tif\"]\n",
    "forest_2019_data = rasterio.open(forest_2019_path[0]).read(1)\n",
    "\n",
    "forest_2020_path = [\"../forest.ind_esa.cci.lc_pc_250m_s_20200101_20201231_go_epsg4326_v20230627.tif\"]\n",
    "forest_2020_data = rasterio.open(forest_2020_path[0]).read(1)\n",
    "\n",
    "wet_2019_path = [\"../wetland.ind_esa.cci.lc_pc_250m_s_20190101_20191231_go_epsg4326_v20230627.tif\"]\n",
    "wet_2019_data = rasterio.open(wet_2019_path[0]).read(1)\n",
    "\n",
    "wet_2020_path = [\"../wetland.ind_esa.cci.lc_pc_250m_s_20200101_20201231_go_epsg4326_v20230627.tif\"]\n",
    "wet_2020_data = rasterio.open(wet_2020_path[0]).read(1)"
   ]
  },
  {
   "cell_type": "code",
   "execution_count": 40,
   "id": "11534e20-50e6-40ed-90a1-bd20e4a31e91",
   "metadata": {},
   "outputs": [],
   "source": [
    "lc_change_neg = np.zeros_like(forest_2000_data)\n",
    "lc_change_neg[(((forest_2000_data == 100) & (forest_2001_data == 100)) | ((wet_2000_data == 100) & (wet_2001_data == 100))) & (((crop_2019_data == 100) & (crop_2020_data == 100)) | ((grass_2019_data == 100) & (grass_2020_data == 100)))] = 1\n",
    "lc_change_neg[(((forest_2019_data == 100) & (forest_2020_data == 100)) | ((wet_2019_data == 100) & (wet_2020_data == 100))) & (((crop_2000_data == 100) & (crop_2001_data == 100)) | ((grass_2000_data == 100) & (grass_2001_data == 100)))] = 2\n"
   ]
  },
  {
   "cell_type": "code",
   "execution_count": 49,
   "id": "d9e5da10-d308-4a3b-b6dc-71e50caf77a7",
   "metadata": {},
   "outputs": [],
   "source": [
    "# ds_forest_2000 = rasterio.open(forest_2000_path[0])\n",
    "# #write to file\n",
    "# with rasterio.open(\n",
    "#     'lc.change.ind_v20230628.tif', \n",
    "#     'w',\n",
    "#     driver='GTiff',\n",
    "#     height=lc_change_neg.shape[0],\n",
    "#     width=lc_change_neg.shape[1],\n",
    "#     count=1,\n",
    "#     dtype=np.uint8,\n",
    "#     crs=ds_forest_2000.crs,\n",
    "#     transform=ds_forest_2000.transform,\n",
    "#     compress='lzw',\n",
    "#     tiled=True\n",
    "# ) as dest_file:\n",
    "#     dest_file.write(lc_change_neg, 1)\n",
    "# dest_file.close()"
   ]
  },
  {
   "cell_type": "code",
   "execution_count": null,
   "id": "097c6f1d-d428-4520-84f6-22850b82bc4f",
   "metadata": {},
   "outputs": [],
   "source": [
    "import gc\n",
    "del forest_2019_data, forest_2020_data, wet_2019_data, wet_2020_data\n",
    "gc.collect()\n"
   ]
  },
  {
   "cell_type": "code",
   "execution_count": null,
   "id": "358cbde5-ae48-4ac8-8c5a-44748cbae688",
   "metadata": {},
   "outputs": [],
   "source": [
    "import os\n",
    "input_vrt = 'lc.change.ind_v20230628.tif'\n",
    "output_vrt = input_vrt.replace(\".tif\", \"_cog.tif\")\n",
    "cmd = f'gdal_translate --config GDAL_CACHEMAX 2048 -co BLOCKSIZE=1024 -co BIGTIFF=YES -co COMPRESS=DEFLATE -co NUM_THREADS=8 -co LEVEL=9 -of COG {input_vrt} {output_vrt}'\n",
    "# os.system(cmd)"
   ]
  },
  {
   "cell_type": "code",
   "execution_count": 54,
   "id": "49cdb630-2c08-4191-bd6d-d92975791ea9",
   "metadata": {},
   "outputs": [
    {
     "name": "stdout",
     "output_type": "stream",
     "text": [
      "Creating output file that is 172800P x 71698L.\n",
      "Using internal nodata values (e.g. -32768) for image /mnt/freya/julia/potential_fapar/data/nightlights/avg_change/nightlights.difference_viirs.v21_m_500m_s_2000_2021_go_epsg4326_v20230318.tif.\n",
      "Copying nodata values from source /mnt/freya/julia/potential_fapar/data/nightlights/avg_change/nightlights.difference_viirs.v21_m_500m_s_2000_2021_go_epsg4326_v20230318.tif to destination .\n",
      "0...10...20...30...40...50...60...70...80...90...100 - done.\n"
     ]
    },
    {
     "data": {
      "text/plain": [
       "0"
      ]
     },
     "execution_count": 54,
     "metadata": {},
     "output_type": "execute_result"
    }
   ],
   "source": [
    "#create 250m COG with bbox of OEMC of difference raster nightlights 2000 - 2021\n",
    "cmd = 'gdalwarp -te -180.00000 -62.00081 179.99994 87.37000 -tr 0.002083333 0.002083333 -r cubicspline --config GDAL_CACHEMAX 2048 -co BLOCKSIZE=1024 -co BIGTIFF=YES -co COMPRESS=DEFLATE -co NUM_THREADS=8 -co LEVEL=9 -of COG /mnt/freya/julia/potential_fapar/data/nightlights/avg_change/nightlights.difference_viirs.v21_m_500m_s_2000_2021_go_epsg4326_v20230318.tif /mnt/freya/julia/potential_fapar/data/nightlights/avg_change/nightlights.difference_viirs.v21_m_250m_s_2000_2021_go_epsg4326_v20230318_cog.tif'\n",
    "# os.system(cmd)"
   ]
  },
  {
   "cell_type": "code",
   "execution_count": 3,
   "id": "d024306d-2ae4-43c7-85a1-82f65fde1284",
   "metadata": {},
   "outputs": [],
   "source": [
    "file_path = ['../nightlights.difference_viirs.v21_m_250m_s_2000_2021_go_epsg4326_v20230318_cog.tif']\n",
    "nl_diff_data = rasterio.open(file_path[0]).read(1)"
   ]
  },
  {
   "cell_type": "code",
   "execution_count": 40,
   "id": "e957251d-9592-4848-87cc-009c9cbcd394",
   "metadata": {},
   "outputs": [],
   "source": [
    "#create new nl diff data stratum\n",
    "\n",
    "#load in 1st dataset\n",
    "nl_2000_path = [\"../nightlights.average_viirs.v21_m_250m_s_20000101_20001231_go_epsg4326_v20230318.tif\"]\n",
    "ds_nl_2000 = rasterio.open(nl_2000_path[0])\n",
    "nl_2000_data = rasterio.open(nl_2000_path[0]).read(1)"
   ]
  },
  {
   "cell_type": "code",
   "execution_count": null,
   "id": "9b911557-c2bc-4866-93f9-d95396beff61",
   "metadata": {},
   "outputs": [],
   "source": [
    "nl_2021_path = [\"../nightlights.average_viirs.v21_m_250m_s_20210101_20211231_go_epsg4326_v20230318.tif\"]\n",
    "nl_2021_data = rasterio.open(nl_2021_path[0]).read(1)\n"
   ]
  },
  {
   "cell_type": "code",
   "execution_count": 19,
   "id": "efe92472-6c02-4f11-bfd2-f22bd84aabd1",
   "metadata": {},
   "outputs": [],
   "source": [
    "nl_diff_data_pos = nl_diff_data[nl_diff_data>0]"
   ]
  },
  {
   "cell_type": "code",
   "execution_count": 32,
   "id": "4df683b3-b74e-43d9-afc6-42f5571c5081",
   "metadata": {},
   "outputs": [],
   "source": [
    "nl_diff_data_neg = nl_diff_data[nl_diff_data<0]"
   ]
  },
  {
   "cell_type": "code",
   "execution_count": 39,
   "id": "dafaaa9d-a104-4669-8563-263a98f88ab1",
   "metadata": {},
   "outputs": [],
   "source": [
    "base_raster = [\"nightlights.average_viirs.v21_m_250m_s_20210101_20211231_go_epsg4326_v20230318.tif\"]\n",
    "nl_data_2021 = rasterio.open(base_raster[0]).read(1)"
   ]
  },
  {
   "cell_type": "code",
   "execution_count": 43,
   "id": "9d2cf2e3-9af7-4ae7-8770-671291f91afa",
   "metadata": {},
   "outputs": [],
   "source": [
    "nl_data_2021_notzero = nl_data_2021[nl_data_2021>0]"
   ]
  },
  {
   "cell_type": "code",
   "execution_count": 50,
   "id": "0643f752-5a26-43e2-940e-8316ba976798",
   "metadata": {},
   "outputs": [],
   "source": [
    "nl_data_2021_neg = nl_data_2021[nl_data_2021<0]"
   ]
  },
  {
   "cell_type": "code",
   "execution_count": 105,
   "id": "bde33afe-8ee9-4296-a358-eafb3c8df7dc",
   "metadata": {},
   "outputs": [],
   "source": [
    "strata = np.zeros_like(nl_diff_data)"
   ]
  },
  {
   "cell_type": "code",
   "execution_count": 62,
   "id": "9288633a-b478-4ba6-8e70-8571333c05bd",
   "metadata": {},
   "outputs": [],
   "source": [
    "lc_change_path = [\"lc.change.ind_v20230628.tif\"]\n",
    "lc_change_data = rasterio.open(lc_change_path[0]).read(1)"
   ]
  },
  {
   "cell_type": "code",
   "execution_count": 65,
   "id": "2fe17834-44e1-40a9-9d0c-8aaa0282c457",
   "metadata": {},
   "outputs": [],
   "source": [
    "hp4_path = [\"hp.ind_v20230628.tif\"]\n",
    "hp4_data = rasterio.open(hp4_path[0]).read(1)"
   ]
  },
  {
   "cell_type": "code",
   "execution_count": 67,
   "id": "6300c4ac-c28b-46a9-95e0-0f9f1aae555d",
   "metadata": {},
   "outputs": [
    {
     "data": {
      "text/plain": [
       "(71698, 172800)"
      ]
     },
     "execution_count": 67,
     "metadata": {},
     "output_type": "execute_result"
    }
   ],
   "source": [
    "landmask_path = [\"lcv_landmask_esacci.lc.l4_c_250m_s0..0cm_2000..2015_v1.0.tif\"]\n",
    "landmask_data = rasterio.open(landmask_path[0]).read(1)\n",
    "landmask_data.shape"
   ]
  },
  {
   "cell_type": "code",
   "execution_count": 107,
   "id": "009a2701-0810-4a0a-93a5-294d320e81d7",
   "metadata": {},
   "outputs": [],
   "source": [
    "#create strata\n",
    "#1\n",
    "strata[(nl_diff_data<10) & (nl_diff_data>-10) & (lc_change_data==0) & (hp4_data==100)] = 1\n",
    "\n",
    "#2\n",
    "strata[(nl_diff_data<10) & (nl_diff_data>-10)& (lc_change_data==1) & (hp4_data==0)] = 2\n",
    "\n",
    "#3\n",
    "strata[(nl_diff_data<10) & (nl_diff_data>-10) & (lc_change_data==1) & (hp4_data==100)] = 3\n",
    "\n",
    "#4\n",
    "strata[(nl_diff_data<10) & (nl_diff_data>-10) & (lc_change_data==2) & (hp4_data==0)] = 4\n",
    "\n",
    "#5\n",
    "strata[(nl_diff_data<10) & (nl_diff_data>-10)& (lc_change_data==2) & (hp4_data==100)] = 5\n",
    "\n",
    "#6\n",
    "strata[(nl_diff_data>10) & (lc_change_data==0) & (hp4_data==0)] = 6\n",
    "\n",
    "#7\n",
    "strata[(nl_diff_data>10) & (lc_change_data==0) & (hp4_data==100)] = 7\n",
    "\n",
    "#8\n",
    "strata[(nl_diff_data>10) & (lc_change_data==1) & (hp4_data==0)] = 8\n",
    "\n",
    "#9\n",
    "strata[(nl_diff_data>10) & (lc_change_data==1) & (hp4_data==100)] = 9\n",
    "\n",
    "#10\n",
    "strata[(nl_diff_data>10) & (lc_change_data==2) & (hp4_data==0)] = 10\n",
    "\n",
    "#11\n",
    "strata[(nl_diff_data>10) & (lc_change_data==2) & (hp4_data==100)] = 11\n",
    "\n",
    "#12\n",
    "strata[(nl_diff_data<-10) & (lc_change_data==0) & (hp4_data==0)] = 12\n",
    "\n",
    "#13\n",
    "strata[(nl_diff_data<-10) & (lc_change_data==0) & (hp4_data==100)] = 13\n",
    "\n",
    "#14\n",
    "strata[(nl_diff_data<-10) & (lc_change_data==1) & (hp4_data==0)] = 14\n",
    "\n",
    "#15\n",
    "strata[(nl_diff_data<-10) & (lc_change_data==1) & (hp4_data==100)] = 15\n",
    "\n",
    "#16\n",
    "strata[(nl_diff_data<-10) & (lc_change_data==2) & (hp4_data==0)] = 16\n",
    "\n",
    "#17\n",
    "strata[(nl_diff_data<-10) & (lc_change_data==2) & (hp4_data==100)] = 17\n",
    "\n",
    "#18\n",
    "strata[(nl_diff_data<10) & (nl_diff_data>-10) & (lc_change_data==0) & (hp4_data==0)] = 18\n",
    "\n",
    "#landmask\n",
    "strata[(landmask_data == 2) | (landmask_data==4)] = 0"
   ]
  },
  {
   "cell_type": "code",
   "execution_count": 109,
   "id": "5ee89763-405e-42b7-81f2-c7cf73b86e90",
   "metadata": {},
   "outputs": [
    {
     "name": "stdout",
     "output_type": "stream",
     "text": [
      "[[         0 9110768134]\n",
      " [         1 2245165086]\n",
      " [         2    2072589]\n",
      " [         3   15846791]\n",
      " [         4    1915900]\n",
      " [         5   15056032]\n",
      " [         6      23327]\n",
      " [         7   50149043]\n",
      " [         8          2]\n",
      " [         9     318161]\n",
      " [        10         30]\n",
      " [        11     253155]\n",
      " [        13   27420619]\n",
      " [        15     197711]\n",
      " [        17     124282]\n",
      " [        18  920103538]]\n"
     ]
    }
   ],
   "source": [
    "#get unique values and counts of each value\n",
    "unique, counts = np.unique(strata, return_counts=True)\n",
    "\n",
    "#display unique values and counts side by side\n",
    "print(np.asarray((unique, counts)).T)"
   ]
  },
  {
   "cell_type": "code",
   "execution_count": 80,
   "id": "5e021ac8-1767-4742-b24d-7de0ccdc61f2",
   "metadata": {},
   "outputs": [],
   "source": [
    "landmask_path = [\"lcv_landmask_esacci.lc.l4_c_250m_s0..0cm_2000..2015_v1.0.tif\"]\n",
    "landmask_ds = rasterio.open(landmask_path[0])"
   ]
  },
  {
   "cell_type": "code",
   "execution_count": 114,
   "id": "d912c874-2515-426a-8cb2-29c9621d0ca0",
   "metadata": {},
   "outputs": [],
   "source": [
    "# #write to file\n",
    "# with rasterio.open(\n",
    "#     'strata.human.pressure.tif', \n",
    "#     'w',\n",
    "#     driver='GTiff',\n",
    "#     height=strata.shape[0],\n",
    "#     width=strata.shape[1],\n",
    "#     count=1,\n",
    "#     dtype=np.int16,\n",
    "#     crs=landmask_ds.crs,\n",
    "#     transform=landmask_ds.transform,\n",
    "#     compress='lzw',\n",
    "#     tiled=True\n",
    "# ) as dest_file:\n",
    "#     dest_file.write(strata, 1)\n",
    "# dest_file.close()"
   ]
  },
  {
   "cell_type": "code",
   "execution_count": null,
   "id": "fc3732b1-eded-458f-a671-74d25eab92b9",
   "metadata": {},
   "outputs": [],
   "source": [
    "input_vrt = 'strata.human.pressure.tif'\n",
    "output_vrt = input_vrt.replace(\".tif\", \"_cog.tif\")\n",
    "cmd = f'gdal_translate --config GDAL_CACHEMAX 2048 -co BLOCKSIZE=1024 -co BIGTIFF=YES -co COMPRESS=DEFLATE -co NUM_THREADS=8 -co LEVEL=9 -of COG {input_vrt} {output_vrt}'\n",
    "# os.system(cmd)"
   ]
  },
  {
   "cell_type": "code",
   "execution_count": 123,
   "id": "0d96beef-7a62-42dd-a542-a51f2c93a30c",
   "metadata": {},
   "outputs": [
    {
     "name": "stdout",
     "output_type": "stream",
     "text": [
      "Creating output file that is 220833P x 84474L.\n",
      "0...10...20...30...40...50...60...70...80...90...100 - done.\n"
     ]
    },
    {
     "data": {
      "text/plain": [
       "0"
      ]
     },
     "execution_count": 123,
     "metadata": {},
     "output_type": "execute_result"
    }
   ],
   "source": [
    "# reproject to equal distance projection\n",
    "input_vrt = 'strata.human.pressure_cog.tif'\n",
    "output_vrt = input_vrt.replace(\".tif\", \"epsg54052.tif\")\n",
    "cmd = f\"gdalwarp -t_srs '+proj=igh +lon_0=0 +x_0=0 +y_0=0 +datum=WGS84 +units=m +no_defs +type=crs' --config GDAL_CACHEMAX 2048 -co BLOCKSIZE=1024 -co BIGTIFF=YES -co COMPRESS=DEFLATE -co NUM_THREADS=8 -co LEVEL=9 -of COG {input_vrt} {output_vrt}\"\n",
    "# os.system(cmd)"
   ]
  },
  {
   "cell_type": "markdown",
   "id": "efab4330-07e0-43bf-a6de-f2bc49a07159",
   "metadata": {},
   "source": [
    "1. reproject FAPAR Jan, Apr, Jul, Oct 2001 and 2021 to IGH \n",
    "2. read in FAPAR IGH dates (8 layers)\n",
    "3. read in hp_strata IGH \n",
    "4. create new array for each stratum with FAPAR values in that stratum and everything else None\n",
    "5. calc st.dev for each stratum array\n",
    "6. calculate strata size for each stratum array\n",
    "7. fill in Neyman allocation formula"
   ]
  },
  {
   "cell_type": "code",
   "execution_count": null,
   "id": "535f7a4c-f566-40f7-ab63-1777617b9f25",
   "metadata": {},
   "outputs": [],
   "source": [
    "# 1. Reproject FAPAR p50 layers to IGH (equal distance projection)\n",
    "\n",
    "import os\n",
    "input_files_ls = [\n",
    "    '../fapar_essd.lstm_p50_250m_s_20010101_20010131_go_epsg.4326_v20230628.tif',\n",
    "    '../fapar_essd.lstm_p50_250m_s_20010401_20010430_go_epsg.4326_v20230628.tif',\n",
    "    '../fapar_essd.lstm_p50_250m_s_20010701_20010731_go_epsg.4326_v20230628.tif',\n",
    "    '../fapar_essd.lstm_p50_250m_s_20011001_20011031_go_epsg.4326_v20230628.tif',\n",
    "    '../fapar_essd.lstm_p50_250m_s_20210101_20210131_go_epsg.4326_v20230628.tif',\n",
    "    '../fapar_essd.lstm_p50_250m_s_20210401_20210430_go_epsg.4326_v20230628.tif',\n",
    "    '../fapar_essd.lstm_p50_250m_s_20210701_20210731_go_epsg.4326_v20230628.tif',\n",
    "    '../fapar_essd.lstm_p50_250m_s_20211001_20211031_go_epsg.4326_v20230628.tif'\n",
    "]\n",
    "\n",
    "\n",
    "import os\n",
    "from eumap import parallel\n",
    "os.environ['PROJ_LIB'] = '/opt/conda/share/proj/'\n",
    "def worker(cmds):\n",
    "    print(f'{cmds}')\n",
    "    os.system(cmds)\n",
    "    return f'Command {cmds} finished'\n",
    "\n",
    "\n",
    "cmd_ls = []\n",
    "out_folder = '../fapar/'\n",
    "for i in input_files_ls:\n",
    "    output_file = out_folder + i.split('/')[-1].replace(\"4326_v20230628\", \"54052_v20230821\")\n",
    "    cmd = f\"gdalwarp -t_srs '+proj=igh +lon_0=0 +x_0=0 +y_0=0 +datum=WGS84 +units=m +no_defs +type=crs' --config GDAL_CACHEMAX 2048 -co BLOCKSIZE=1024 -co BIGTIFF=YES -co COMPRESS=DEFLATE -co NUM_THREADS=8 -co LEVEL=9 -of COG {i} {output_file}\"\n",
    "    cmd_ls.append(cmd)\n",
    "\n",
    "cmd_ls_nest = [[i] for i in cmd_ls]\n",
    "len(cmd_ls_nest)\n",
    "\n",
    "for result in parallel.job(worker, cmd_ls_nest, n_jobs=-10):\n",
    "    print(result)"
   ]
  },
  {
   "cell_type": "code",
   "execution_count": 2,
   "id": "42c57a5c-66bb-479a-892a-47004a7e0b3d",
   "metadata": {},
   "outputs": [
    {
     "data": {
      "text/plain": [
       "(84474, 220834)"
      ]
     },
     "execution_count": 2,
     "metadata": {},
     "output_type": "execute_result"
    }
   ],
   "source": [
    "# 2. read in FAPAR IGH \n",
    "fapar_input_ls = [\n",
    "    '../fapar/fapar_essd.lstm_p50_250m_s_20010101_20010131_go_epsg.54052_v20230821.tif',\n",
    "    '../fapar/fapar_essd.lstm_p50_250m_s_20010401_20010430_go_epsg.54052_v20230821.tif',\n",
    "    '../fapar/fapar_essd.lstm_p50_250m_s_20010701_20010731_go_epsg.54052_v20230821.tif',\n",
    "    '../fapar/fapar_essd.lstm_p50_250m_s_20011001_20011031_go_epsg.54052_v20230821.tif',\n",
    "    '../fapar/fapar_essd.lstm_p50_250m_s_20210101_20210131_go_epsg.54052_v20230821.tif',\n",
    "    '../fapar/fapar_essd.lstm_p50_250m_s_20210401_20210430_go_epsg.54052_v20230821.tif',\n",
    "    '../fapar/fapar_essd.lstm_p50_250m_s_20210701_20210731_go_epsg.54052_v20230821.tif',\n",
    "    '../fapar/fapar_essd.lstm_p50_250m_s_20211001_20211031_go_epsg.54052_v20230821.tif'\n",
    "]\n",
    "\n",
    "\n",
    "fapar_igh_ds = rasterio.open(fapar_input_ls[0])\n",
    "fapar_igh_data_1 = rasterio.open(fapar_input_ls[0]).read(1)\n",
    "fapar_igh_data_2 = rasterio.open(fapar_input_ls[1]).read(1)\n",
    "fapar_igh_data_3 = rasterio.open(fapar_input_ls[2]).read(1)\n",
    "fapar_igh_data_4 = rasterio.open(fapar_input_ls[3]).read(1)\n",
    "fapar_igh_data_5 = rasterio.open(fapar_input_ls[4]).read(1)\n",
    "fapar_igh_data_6 = rasterio.open(fapar_input_ls[5]).read(1)\n",
    "fapar_igh_data_7 = rasterio.open(fapar_input_ls[6]).read(1)\n",
    "fapar_igh_data_8 = rasterio.open(fapar_input_ls[7]).read(1)\n",
    "fapar_igh_data_8.shape"
   ]
  },
  {
   "cell_type": "code",
   "execution_count": 3,
   "id": "9b8f45ee-4c67-41d8-97c7-a304af7d13c0",
   "metadata": {},
   "outputs": [],
   "source": [
    "fapar_data_ls = [fapar_igh_data_1, fapar_igh_data_2, fapar_igh_data_3, fapar_igh_data_4, fapar_igh_data_5, fapar_igh_data_6, fapar_igh_data_7, fapar_igh_data_8]\n",
    "# fapar_igh_data_stack = np.stack(fapar_data_ls, axis=2)"
   ]
  },
  {
   "cell_type": "code",
   "execution_count": null,
   "id": "e6a9c0ce-6e96-4f0f-b890-461b91d640dd",
   "metadata": {},
   "outputs": [],
   "source": [
    "# import gc\n",
    "# del fapar_igh_data_1, fapar_igh_data_2, fapar_igh_data_3, fapar_igh_data_4, fapar_igh_data_5, fapar_igh_data_6, fapar_igh_data_7, fapar_igh_data_8\n",
    "# gc.collect()\n",
    "\n",
    "# import gc\n",
    "# del fapar_data_ls\n",
    "# gc.collect()"
   ]
  },
  {
   "cell_type": "code",
   "execution_count": 2,
   "id": "902c3696-60ca-4b22-ae9b-9582cd6c9460",
   "metadata": {},
   "outputs": [
    {
     "data": {
      "text/plain": [
       "(84474, 220834)"
      ]
     },
     "execution_count": 2,
     "metadata": {},
     "output_type": "execute_result"
    }
   ],
   "source": [
    "# 3. read in hp strata IGH\n",
    "hp_layer = ['strata.human.pressure_cog_epsg54052.tif']\n",
    "hp_igh_ds = rasterio.open(hp_layer[0])\n",
    "hp_igh_data = rasterio.open(hp_layer[0]).read(1)\n",
    "hp_igh_data.shape"
   ]
  },
  {
   "cell_type": "code",
   "execution_count": null,
   "id": "b648d81a-9ef3-44da-9b92-0752cfe10b5e",
   "metadata": {},
   "outputs": [],
   "source": [
    "# reproject DTM to IGH and exactly FAPAR extent, and mask out values in hp_igh_data where FAPAR or DTM have no value\n",
    "\n",
    "#DTM elevation path\n",
    "elev_path = 'dtm_elevation_merit.dem_m_250m_s0..0cm_2017_v1.0.tif'\n",
    "outpath =  'dtm_elevation_merit.dem_m_250m_s0..0cm_2017_v1.0_epsg.54052_v20230821.tif'\n",
    "\n",
    "#reproject to IGH\n",
    "cmd = f\"gdalwarp -t_srs '+proj=igh +lon_0=0 +x_0=0 +y_0=0 +datum=WGS84 +units=m +no_defs +type=crs' --config GDAL_CACHEMAX 2048 -co BLOCKSIZE=1024 -co BIGTIFF=YES -co COMPRESS=DEFLATE -co NUM_THREADS=8 -co LEVEL=9 -of COG {elev_path} {outpath}\"\n",
    "# os.system(cmd)\n",
    "\n",
    "dtm_fapar_extent_path = 'dtm_elevation_merit.dem_m_250m_s0..0cm_2017_v1.0_epsg.54052_v20230821_exactlyFAPARext.tif'\n",
    "#warp to exactly hp_igh data extent to filter out data gaps in training points\n",
    "cmd = f'gdalwarp -te -20037313.5386688336730003 -6728829.4338057115674019 20037116.4960369616746902 8600546.4899729527533054 -tr 181.4685693086472043 181.4685693086472043 -r nearest --config GDAL_CACHEMAX 2048 -co BLOCKSIZE=1024 -co BIGTIFF=YES -co COMPRESS=DEFLATE -co NUM_THREADS=8 -co LEVEL=9 -of COG {outpath} {dtm_fapar_extent_path}'\n",
    "# os.system(cmd)"
   ]
  },
  {
   "cell_type": "code",
   "execution_count": 29,
   "id": "f46b3b7b-108d-44b3-8c2a-8a3c0319bbd0",
   "metadata": {},
   "outputs": [
    {
     "name": "stdout",
     "output_type": "stream",
     "text": [
      "(84474, 220834)\n",
      "(84474, 220834)\n"
     ]
    }
   ],
   "source": [
    "#read in DTM and substitute values in hp_strata with -9999 where DTM = -9999 or FAPAR = 255\n",
    "dtm_data = rasterio.open(dtm_fapar_extent_path).read(1)\n",
    "print(dtm_data.shape)\n",
    "print(hp_igh_data.shape)"
   ]
  },
  {
   "cell_type": "code",
   "execution_count": 35,
   "id": "284648a3-ca9c-4471-9db3-2788f1483bef",
   "metadata": {},
   "outputs": [],
   "source": [
    "hp_igh_data[dtm_data==-9999]=-9999\n",
    "hp_igh_data[fapar_igh_data_1==255]=-9999"
   ]
  },
  {
   "cell_type": "code",
   "execution_count": null,
   "id": "f045a4bb-1848-49c0-b3f5-95295e591d03",
   "metadata": {},
   "outputs": [],
   "source": [
    "strata_ls = list(range(1,6))  + [7] + [9] + list(range(11, 18))\n",
    "rest_stratum = [6, 8, 10, 18]\n",
    "\n",
    "\n",
    "std_ls =[]\n",
    "strata_size_ls = []\n",
    "\n",
    "for stratum in strata_ls:\n",
    "    print(stratum)\n",
    "    fapar_igh_data_1_stratum = fapar_igh_data_1[hp_igh_data==stratum]\n",
    "    print(fapar_igh_data_1_stratum.size)\n",
    "   \n",
    "    fapar_igh_data_2_stratum = fapar_igh_data_2[hp_igh_data==stratum]\n",
    "    print(fapar_igh_data_2_stratum.size)\n",
    "    fapar_igh_data_3_stratum = fapar_igh_data_3[hp_igh_data==stratum]\n",
    "    fapar_igh_data_4_stratum = fapar_igh_data_4[hp_igh_data==stratum]\n",
    "    fapar_igh_data_5_stratum = fapar_igh_data_5[hp_igh_data==stratum]\n",
    "    fapar_igh_data_6_stratum = fapar_igh_data_6[hp_igh_data==stratum]\n",
    "    fapar_igh_data_7_stratum = fapar_igh_data_7[hp_igh_data==stratum]\n",
    "    fapar_igh_data_8_stratum = fapar_igh_data_8[hp_igh_data==stratum]\n",
    "    \n",
    "    A = [\n",
    "        fapar_igh_data_1_stratum, \n",
    "        fapar_igh_data_2_stratum, \n",
    "        fapar_igh_data_3_stratum, \n",
    "        fapar_igh_data_4_stratum,\n",
    "        fapar_igh_data_5_stratum,\n",
    "        fapar_igh_data_6_stratum,\n",
    "        fapar_igh_data_7_stratum,\n",
    "        fapar_igh_data_8_stratum\n",
    "] \n",
    "    print(\"calc N\")\n",
    "    N = float(sum([i.size for i in A]))\n",
    "    mean_ = sum([i.sum() for i in A])/N\n",
    "    std_ = np.sqrt(sum([((i-mean_)**2).sum() for i in A])/N)\n",
    "    print(std_)\n",
    "    std_ls.append(std_)\n",
    "    strata_size_ls.append(fapar_igh_data_1_stratum.size*8) # adds total stratum size for each of the strata in hp_data (but times 8 because of 8 dates)\n"
   ]
  },
  {
   "cell_type": "code",
   "execution_count": null,
   "id": "91e22da5-d2dd-49b4-b046-6aff14f1b9ce",
   "metadata": {},
   "outputs": [],
   "source": [
    "# add rest stratum to list\n",
    "\n",
    "fapar_igh_data_1_stratum = fapar_igh_data_1[np.isin(hp_igh_data, rest_stratum)]\n",
    "print(fapar_igh_data_1_stratum.size)\n",
    "\n",
    "fapar_igh_data_2_stratum = fapar_igh_data_2[np.isin(hp_igh_data, rest_stratum)]\n",
    "print(fapar_igh_data_2_stratum.size)\n",
    "\n",
    "fapar_igh_data_3_stratum = fapar_igh_data_3[np.isin(hp_igh_data, rest_stratum)]\n",
    "fapar_igh_data_4_stratum = fapar_igh_data_4[np.isin(hp_igh_data, rest_stratum)]\n",
    "fapar_igh_data_5_stratum = fapar_igh_data_5[np.isin(hp_igh_data, rest_stratum)]\n",
    "fapar_igh_data_6_stratum = fapar_igh_data_6[np.isin(hp_igh_data, rest_stratum)]\n",
    "fapar_igh_data_7_stratum = fapar_igh_data_7[np.isin(hp_igh_data, rest_stratum)]\n",
    "fapar_igh_data_8_stratum = fapar_igh_data_8[np.isin(hp_igh_data, rest_stratum)]\n",
    "    \n",
    "A = [\n",
    "    fapar_igh_data_1_stratum, \n",
    "    fapar_igh_data_2_stratum, \n",
    "    fapar_igh_data_3_stratum, \n",
    "    fapar_igh_data_4_stratum,\n",
    "    fapar_igh_data_5_stratum,\n",
    "    fapar_igh_data_6_stratum,\n",
    "    fapar_igh_data_7_stratum,\n",
    "    fapar_igh_data_8_stratum\n",
    "] \n",
    "print(\"calc N\")\n",
    "N = float(sum([i.size for i in A]))\n",
    "mean_ = sum([i.sum() for i in A])/N\n",
    "std_ = np.sqrt(sum([((i-mean_)**2).sum() for i in A])/N)\n",
    "print(std_)\n",
    "std_ls.append(std_)\n",
    "strata_size_ls.append(fapar_igh_data_1_stratum.size*8)"
   ]
  },
  {
   "cell_type": "code",
   "execution_count": 47,
   "id": "efe0eef9-e4b6-4d75-aba4-b7748e17c1d5",
   "metadata": {},
   "outputs": [],
   "source": [
    "std_df = pd.DataFrame(\n",
    "    {'stratum': list(range(1,6)) + [7] + [9] + list(range(11, 19)),\n",
    "     'size': strata_size_ls,\n",
    "     'std': std_ls\n",
    "    })"
   ]
  },
  {
   "cell_type": "code",
   "execution_count": 50,
   "id": "7199a038-2a37-46ba-a150-48c952c232ce",
   "metadata": {},
   "outputs": [],
   "source": [
    "std_df_nona2 = std_df.dropna()"
   ]
  },
  {
   "cell_type": "code",
   "execution_count": null,
   "id": "2daba180-0999-45d4-af1e-9e4bfd199e96",
   "metadata": {},
   "outputs": [],
   "source": [
    "#calculate sample size per stratum\n",
    "total_sample_size_to_allocate = 12500-(200*len(std_df_nona2))\n",
    "total_sample_size_to_allocate\n",
    "allstr_val = sum(x * y for x, y in zip(list(std_df_nona2['std']), list(std_df_nona2['size'])))\n",
    "std_df_nona2['n_samples_incl_min200'] = round(((total_sample_size_to_allocate * (std_df_nona2['size'] * std_df_nona2['std']) / allstr_val)+200),0)\n"
   ]
  },
  {
   "cell_type": "code",
   "execution_count": 7,
   "id": "89f781c1-5466-43ea-b266-b6362bf6345f",
   "metadata": {},
   "outputs": [
    {
     "name": "stdout",
     "output_type": "stream",
     "text": [
      "(84474, 220834)\n",
      "(84474, 220834)\n"
     ]
    }
   ],
   "source": [
    "#subset hp_igh data again to dtm and fapar valid values\n",
    "dtm_fapar_extent_path = 'dtm_elevation_merit.dem_m_250m_s0..0cm_2017_v1.0_epsg.54052_v20230821_exactlyFAPARext.tif'\n",
    "\n",
    "dtm_data = rasterio.open(dtm_fapar_extent_path).read(1)\n",
    "\n",
    "fapar_igh_data_1 = rasterio.open(fapar_input_ls[0]).read(1)\n",
    "\n",
    "print(dtm_data.shape)\n",
    "print(hp_igh_data.shape)\n",
    "\n",
    "hp_igh_data[dtm_data==-9999]=-9999\n",
    "hp_igh_data[fapar_igh_data_1==255]=-9999\n"
   ]
  },
  {
   "cell_type": "code",
   "execution_count": 9,
   "id": "36ebcfc9-4621-475d-8d0b-43437a49e197",
   "metadata": {},
   "outputs": [
    {
     "data": {
      "text/plain": [
       "0"
      ]
     },
     "execution_count": 9,
     "metadata": {},
     "output_type": "execute_result"
    }
   ],
   "source": [
    "# import gc\n",
    "# del dtm_data, fapar_igh_data_1\n",
    "# gc.collect()"
   ]
  },
  {
   "cell_type": "code",
   "execution_count": 3,
   "id": "cc4373d6-058b-4380-8333-87babbc0037b",
   "metadata": {},
   "outputs": [],
   "source": [
    "#draw random samples from each stratum of given size\n",
    "lon = np.arange(0.5, hp_igh_ds.width + 0.5, dtype='float32')\n",
    "lat = np.arange(0.5, hp_igh_ds.height + 0.5, dtype='float32')\n",
    "grid = np.meshgrid(lon, lat)"
   ]
  },
  {
   "cell_type": "code",
   "execution_count": 10,
   "id": "b16c4be6-5075-48c1-8c79-13c75e9a2617",
   "metadata": {},
   "outputs": [
    {
     "data": {
      "text/plain": [
       "((84474, 220834), (84474, 220834))"
      ]
     },
     "execution_count": 10,
     "metadata": {},
     "output_type": "execute_result"
    }
   ],
   "source": [
    "lon_grid, lat_grid = hp_igh_ds.transform * grid\n",
    "lat_grid.shape, lon_grid.shape"
   ]
  },
  {
   "cell_type": "code",
   "execution_count": 11,
   "id": "26b848e6-f2d3-4bef-8dff-bac54f5b4739",
   "metadata": {},
   "outputs": [
    {
     "data": {
      "text/plain": [
       "0"
      ]
     },
     "execution_count": 11,
     "metadata": {},
     "output_type": "execute_result"
    }
   ],
   "source": [
    "# import gc\n",
    "# del grid\n",
    "# gc.collect()"
   ]
  },
  {
   "cell_type": "code",
   "execution_count": 19,
   "id": "08d164be-f483-4ec8-b96a-cec9e9b87c28",
   "metadata": {},
   "outputs": [],
   "source": [
    "#assign 18 to the rest_stratum values\n",
    "rest_stratum = [6, 8, 10, 18]\n",
    "hp_igh_data[np.isin(hp_igh_data, rest_stratum)] = 18"
   ]
  },
  {
   "cell_type": "code",
   "execution_count": null,
   "id": "3f809087-38f7-4b71-a1fc-24af5f529408",
   "metadata": {},
   "outputs": [],
   "source": [
    "#draw random samples (array indices) from strata\n",
    "random.seed(123)\n",
    "sample_pnts_df_all = []\n",
    "\n",
    "\n",
    "for i in std_df_nona2['stratum']:\n",
    "    sample_pnts_df = pd.DataFrame()\n",
    "    print(i)\n",
    "    hp_igh_data_stratum = np.array(np.where(hp_igh_data==i))\n",
    "    print(\"sampling\")\n",
    "    sample_size = int(std_df_nona2.loc[std_df_nona2['stratum'] == i, 'n_samples_incl_min200'].values[0])+100\n",
    "    print(sample_size)\n",
    "    sample_columns = random.sample(range(hp_igh_data_stratum.shape[1]), sample_size)\n",
    "    land_true_indices_sample_ax1 = tuple(hp_igh_data_stratum[0][sample_columns])\n",
    "    land_true_indices_sample_ax2 = tuple(hp_igh_data_stratum[1][sample_columns])\n",
    "    sample_pnts_df[\"stratum\"] = hp_igh_data[land_true_indices_sample_ax1, land_true_indices_sample_ax2]\n",
    "    sample_pnts_df[\"lat\"] = lat_grid[land_true_indices_sample_ax1, land_true_indices_sample_ax2]\n",
    "    sample_pnts_df[\"lon\"] = lon_grid[land_true_indices_sample_ax1, land_true_indices_sample_ax2]\n",
    "    sample_pnts_df_all.append(sample_pnts_df)\n",
    "#     print(sample_pnts_df)\n",
    "#     print(sample_pnts_df_all)\n",
    "    \n",
    "sample_pnts_df_all"
   ]
  },
  {
   "cell_type": "code",
   "execution_count": 21,
   "id": "2d3b7a6e-4270-4030-af87-86b8bf7941d2",
   "metadata": {},
   "outputs": [],
   "source": [
    "df_all = pd.concat(sample_pnts_df_all)"
   ]
  },
  {
   "cell_type": "code",
   "execution_count": 22,
   "id": "994ef3aa-5422-4eb0-8d7f-ffa72ac1167d",
   "metadata": {},
   "outputs": [
    {
     "data": {
      "text/html": [
       "<div>\n",
       "<style scoped>\n",
       "    .dataframe tbody tr th:only-of-type {\n",
       "        vertical-align: middle;\n",
       "    }\n",
       "\n",
       "    .dataframe tbody tr th {\n",
       "        vertical-align: top;\n",
       "    }\n",
       "\n",
       "    .dataframe thead th {\n",
       "        text-align: right;\n",
       "    }\n",
       "</style>\n",
       "<table border=\"1\" class=\"dataframe\">\n",
       "  <thead>\n",
       "    <tr style=\"text-align: right;\">\n",
       "      <th></th>\n",
       "      <th>stratum</th>\n",
       "      <th>lat</th>\n",
       "      <th>lon</th>\n",
       "      <th>geometry</th>\n",
       "      <th>lon_epsg4326</th>\n",
       "      <th>lat_epsg4326</th>\n",
       "    </tr>\n",
       "  </thead>\n",
       "  <tbody>\n",
       "    <tr>\n",
       "      <th>0</th>\n",
       "      <td>1</td>\n",
       "      <td>6018883.5</td>\n",
       "      <td>3290198.0</td>\n",
       "      <td>POINT (29.30556 54.69267)</td>\n",
       "      <td>29.305556</td>\n",
       "      <td>54.692666</td>\n",
       "    </tr>\n",
       "    <tr>\n",
       "      <th>1</th>\n",
       "      <td>1</td>\n",
       "      <td>3439670.5</td>\n",
       "      <td>-10092927.0</td>\n",
       "      <td>POINT (-89.12250 30.89909)</td>\n",
       "      <td>-89.122495</td>\n",
       "      <td>30.899086</td>\n",
       "    </tr>\n",
       "    <tr>\n",
       "      <th>2</th>\n",
       "      <td>1</td>\n",
       "      <td>5531822.0</td>\n",
       "      <td>1173912.0</td>\n",
       "      <td>POINT (1.54535 49.95358)</td>\n",
       "      <td>1.545353</td>\n",
       "      <td>49.953582</td>\n",
       "    </tr>\n",
       "    <tr>\n",
       "      <th>3</th>\n",
       "      <td>1</td>\n",
       "      <td>1358045.0</td>\n",
       "      <td>3115080.0</td>\n",
       "      <td>POINT (27.93664 12.19953)</td>\n",
       "      <td>27.936644</td>\n",
       "      <td>12.199526</td>\n",
       "    </tr>\n",
       "    <tr>\n",
       "      <th>4</th>\n",
       "      <td>1</td>\n",
       "      <td>3451829.0</td>\n",
       "      <td>-12216472.0</td>\n",
       "      <td>POINT (-111.36684 31.00831)</td>\n",
       "      <td>-111.366841</td>\n",
       "      <td>31.008307</td>\n",
       "    </tr>\n",
       "    <tr>\n",
       "      <th>...</th>\n",
       "      <td>...</td>\n",
       "      <td>...</td>\n",
       "      <td>...</td>\n",
       "      <td>...</td>\n",
       "      <td>...</td>\n",
       "      <td>...</td>\n",
       "    </tr>\n",
       "    <tr>\n",
       "      <th>2564</th>\n",
       "      <td>18</td>\n",
       "      <td>7462284.5</td>\n",
       "      <td>-9708940.0</td>\n",
       "      <td>POINT (-71.73851 70.29574)</td>\n",
       "      <td>-71.738506</td>\n",
       "      <td>70.295744</td>\n",
       "    </tr>\n",
       "    <tr>\n",
       "      <th>2565</th>\n",
       "      <td>18</td>\n",
       "      <td>6630795.5</td>\n",
       "      <td>4741220.0</td>\n",
       "      <td>POINT (52.02154 60.95575)</td>\n",
       "      <td>52.021539</td>\n",
       "      <td>60.955745</td>\n",
       "    </tr>\n",
       "    <tr>\n",
       "      <th>2566</th>\n",
       "      <td>18</td>\n",
       "      <td>2220928.0</td>\n",
       "      <td>5006710.0</td>\n",
       "      <td>POINT (45.93221 19.95094)</td>\n",
       "      <td>45.932210</td>\n",
       "      <td>19.950936</td>\n",
       "    </tr>\n",
       "    <tr>\n",
       "      <th>2567</th>\n",
       "      <td>18</td>\n",
       "      <td>2282990.0</td>\n",
       "      <td>-730056.0</td>\n",
       "      <td>POINT (-9.03203 20.50845)</td>\n",
       "      <td>-9.032034</td>\n",
       "      <td>20.508448</td>\n",
       "    </tr>\n",
       "    <tr>\n",
       "      <th>2568</th>\n",
       "      <td>18</td>\n",
       "      <td>-2948023.0</td>\n",
       "      <td>14835410.0</td>\n",
       "      <td>POINT (132.47965 -26.48254)</td>\n",
       "      <td>132.479647</td>\n",
       "      <td>-26.482541</td>\n",
       "    </tr>\n",
       "  </tbody>\n",
       "</table>\n",
       "<p>13700 rows × 6 columns</p>\n",
       "</div>"
      ],
      "text/plain": [
       "      stratum        lat         lon                     geometry  \\\n",
       "0           1  6018883.5   3290198.0    POINT (29.30556 54.69267)   \n",
       "1           1  3439670.5 -10092927.0   POINT (-89.12250 30.89909)   \n",
       "2           1  5531822.0   1173912.0     POINT (1.54535 49.95358)   \n",
       "3           1  1358045.0   3115080.0    POINT (27.93664 12.19953)   \n",
       "4           1  3451829.0 -12216472.0  POINT (-111.36684 31.00831)   \n",
       "...       ...        ...         ...                          ...   \n",
       "2564       18  7462284.5  -9708940.0   POINT (-71.73851 70.29574)   \n",
       "2565       18  6630795.5   4741220.0    POINT (52.02154 60.95575)   \n",
       "2566       18  2220928.0   5006710.0    POINT (45.93221 19.95094)   \n",
       "2567       18  2282990.0   -730056.0    POINT (-9.03203 20.50845)   \n",
       "2568       18 -2948023.0  14835410.0  POINT (132.47965 -26.48254)   \n",
       "\n",
       "      lon_epsg4326  lat_epsg4326  \n",
       "0        29.305556     54.692666  \n",
       "1       -89.122495     30.899086  \n",
       "2         1.545353     49.953582  \n",
       "3        27.936644     12.199526  \n",
       "4      -111.366841     31.008307  \n",
       "...            ...           ...  \n",
       "2564    -71.738506     70.295744  \n",
       "2565     52.021539     60.955745  \n",
       "2566     45.932210     19.950936  \n",
       "2567     -9.032034     20.508448  \n",
       "2568    132.479647    -26.482541  \n",
       "\n",
       "[13700 rows x 6 columns]"
      ]
     },
     "execution_count": 22,
     "metadata": {},
     "output_type": "execute_result"
    }
   ],
   "source": [
    "import geopandas\n",
    "gdf_sample_pnts = geopandas.GeoDataFrame(\n",
    "    df_all, geometry=geopandas.points_from_xy(x=df_all.lon, y=df_all.lat, crs=\"+proj=igh +lon_0=0 +x_0=0 +y_0=0 +datum=WGS84 +units=m +no_defs +type=crs\")\n",
    ")\n",
    "\n",
    "# save samples points to geopackage or reproject first\n",
    "import pyproj\n",
    "inProj = '+proj=igh +lon_0=0 +x_0=0 +y_0=0 +datum=WGS84 +units=m +no_defs +type=crs'\n",
    "outProj = '+proj=longlat +datum=WGS84 +no_defs +type=crs'\n",
    "gdf_sample_pnts_epsg4326 = gdf_sample_pnts.copy()\n",
    "gdf_sample_pnts_epsg4326\n",
    "gdf_sample_pnts_epsg4326[\"lon_epsg4326\"], gdf_sample_pnts_epsg4326[\"lat_epsg4326\"] = pyproj.transform(inProj, outProj, gdf_sample_pnts[\"lon\"], gdf_sample_pnts[\"lat\"]) \n",
    "\n",
    "\n",
    "tgr_pnts_epsg4326 = geopandas.GeoDataFrame(\n",
    "    gdf_sample_pnts_epsg4326, geometry=geopandas.points_from_xy(x=gdf_sample_pnts_epsg4326.lon_epsg4326, y=gdf_sample_pnts_epsg4326.lat_epsg4326, crs=\"+proj=longlat +datum=WGS84 +no_defs +type=crs\")\n",
    ")\n",
    "tgr_pnts_epsg4326"
   ]
  },
  {
   "cell_type": "code",
   "execution_count": 23,
   "id": "de54a7a9-7000-4949-8d62-673bfbbcfc70",
   "metadata": {},
   "outputs": [],
   "source": [
    "# tgr_pnts_epsg4326.to_file(f'../data/training_pts/trg.pts_strata_{len(tgr_pnts_epsg4326)}_igh.drawn_epsg4326_v20230821.gpkg',  driver=\"GPKG\")"
   ]
  }
 ],
 "metadata": {
  "kernelspec": {
   "display_name": "Python 3 (ipykernel)",
   "language": "python",
   "name": "python3"
  },
  "language_info": {
   "codemirror_mode": {
    "name": "ipython",
    "version": 3
   },
   "file_extension": ".py",
   "mimetype": "text/x-python",
   "name": "python",
   "nbconvert_exporter": "python",
   "pygments_lexer": "ipython3",
   "version": "3.8.10"
  }
 },
 "nbformat": 4,
 "nbformat_minor": 5
}
